{
 "cells": [
  {
   "cell_type": "code",
   "execution_count": 1,
   "metadata": {},
   "outputs": [
    {
     "name": "stdout",
     "output_type": "stream",
     "text": [
      "Attempting to read data from: ohlcv.csv\n",
      "Successfully read 45164 rows.\n",
      "Filtering for symbol 'SOL'...\n",
      "Found 22582 rows for 'SOL'.\n",
      "Dropping the 'symbol' column...\n",
      "Saving the filtered data to: SOL_minagg.csv\n",
      "Successfully created SOL_minagg.csv with data for 'SOL' only and without the 'symbol' column.\n"
     ]
    }
   ],
   "source": [
    "import pandas as pd\n",
    "import os\n",
    "\n",
    "# Define the input and output file paths\n",
    "input_csv_path = 'ohlcv.csv'\n",
    "output_csv_path = 'SOL_minagg.csv'\n",
    "target_symbol = 'SOL'\n",
    "\n",
    "print(f\"Attempting to read data from: {input_csv_path}\")\n",
    "\n",
    "try:\n",
    "    # 1. Read the original CSV file\n",
    "    df = pd.read_csv(input_csv_path)\n",
    "    print(f\"Successfully read {len(df)} rows.\")\n",
    "\n",
    "    # 2. Check if the 'symbol' column exists\n",
    "    if 'symbol' not in df.columns:\n",
    "        print(f\"Error: 'symbol' column not found in {input_csv_path}. Cannot filter.\")\n",
    "    else:\n",
    "        # 3. Filter the DataFrame to keep only rows where 'symbol' is the target symbol\n",
    "        print(f\"Filtering for symbol '{target_symbol}'...\")\n",
    "        df_filtered = df[df['symbol'] == target_symbol].copy() # Use .copy() to avoid SettingWithCopyWarning\n",
    "\n",
    "        if df_filtered.empty:\n",
    "            print(f\"Warning: No rows found for symbol '{target_symbol}'. The output file might be empty or just contain headers.\")\n",
    "        else:\n",
    "            print(f\"Found {len(df_filtered)} rows for '{target_symbol}'.\")\n",
    "\n",
    "        # 4. Drop the 'symbol' column from the filtered DataFrame\n",
    "        print(\"Dropping the 'symbol' column...\")\n",
    "        df_final = df_filtered.drop('symbol', axis=1) # axis=1 specifies column drop\n",
    "\n",
    "        # 5. Save the resulting DataFrame to the new CSV file\n",
    "        #    index=False prevents pandas from writing the DataFrame index as a column\n",
    "        print(f\"Saving the filtered data to: {output_csv_path}\")\n",
    "        df_final.to_csv(output_csv_path, index=False)\n",
    "\n",
    "        print(f\"Successfully created {output_csv_path} with data for '{target_symbol}' only and without the 'symbol' column.\")\n",
    "\n",
    "except FileNotFoundError:\n",
    "    print(f\"Error: Input file not found at '{input_csv_path}'\")\n",
    "except Exception as e:\n",
    "    print(f\"An error occurred: {e}\")"
   ]
  }
 ],
 "metadata": {
  "kernelspec": {
   "display_name": "Python 3",
   "language": "python",
   "name": "python3"
  },
  "language_info": {
   "codemirror_mode": {
    "name": "ipython",
    "version": 3
   },
   "file_extension": ".py",
   "mimetype": "text/x-python",
   "name": "python",
   "nbconvert_exporter": "python",
   "pygments_lexer": "ipython3",
   "version": "3.12.6"
  }
 },
 "nbformat": 4,
 "nbformat_minor": 2
}
