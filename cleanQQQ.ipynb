{
 "cells": [
  {
   "cell_type": "code",
   "execution_count": 4,
   "metadata": {},
   "outputs": [
    {
     "name": "stdout",
     "output_type": "stream",
     "text": [
      "✅  Saved cleaned file with 1,898 rows × 32 columns → C:\\Users\\mason\\Downloads\\QQQ_15m_YTD_clean_ST.csv\n"
     ]
    }
   ],
   "source": [
    "\"\"\"\n",
    "Clean TradingView 15‑minute export for QQQ\n",
    "-----------------------------------------\n",
    "▶ Assumes RTH‑only export and VWAP anchored 09:30 2‑Jan‑2025.\n",
    "▶ Adds `ST_dir` (+1 / ‑1) alongside the numeric SuperTrend band.\n",
    "\"\"\"\n",
    "\n",
    "import pandas as pd\n",
    "from pathlib import Path\n",
    "import pytz\n",
    "\n",
    "# ── 1. CONFIG ─────────────────────────────────────────────────────────────\n",
    "SRC_CSV = Path(r\"C:\\Users\\mason\\Downloads\\BATS_QQQ, 15 (2).csv\")\n",
    "DST_CSV = SRC_CSV.with_name(\"QQQ_15m_YTD_clean_ST.csv\")\n",
    "ANCHOR_DT = \"2025-01-02 09:30\"   # first RTH bar of 2025 (Eastern)\n",
    "\n",
    "# ── 2. LOAD & MAKE DATETIME INDEX ─────────────────────────────────────────\n",
    "ny = pytz.timezone(\"America/New_York\")\n",
    "\n",
    "df = pd.read_csv(SRC_CSV)\n",
    "df[\"dt\"] = (pd.to_datetime(df[\"time\"], unit=\"s\", utc=True)\n",
    "              .dt.tz_convert(ny))\n",
    "\n",
    "df = (df.set_index(\"dt\")\n",
    "        .sort_index())\n",
    "\n",
    "# ── 3. SLICE TO YTD ───────────────────────────────────────────────────────\n",
    "df = df.loc[ANCHOR_DT:]\n",
    "\n",
    "# ── 4. DROP 100 %‑NaN & LABEL COLUMNS ─────────────────────────────────────\n",
    "label_cols = df.filter(regex=r\"^(Plot|Regular)\").columns\n",
    "all_nan    = df.columns[df.isna().all()]\n",
    "df = df.drop(columns=label_cols.union(all_nan))\n",
    "\n",
    "# ── 5. BUILD SUPERTREND BAND & DIRECTION FLAG ─────────────────────────────\n",
    "if {\"Up Trend\", \"Down Trend\"}.issubset(df.columns):\n",
    "    df[\"SuperTrend\"] = df[\"Up Trend\"].fillna(df[\"Down Trend\"])\n",
    "    df = df.drop(columns=[\"Up Trend\", \"Down Trend\"])\n",
    "\n",
    "# **NEW: create +1 / ‑1 direction column**\n",
    "df[\"ST_dir\"] = (df[\"close\"] > df[\"SuperTrend\"]).astype(int).replace({0: -1})\n",
    "\n",
    "# ── 6. OPTIONAL: RENAME KELTNER CHANNEL COLUMNS ──────────────────────────\n",
    "kc_map = {\"Upper\": \"KC_Upper\", \"Basis\": \"KC_Mid\", \"Lower\": \"KC_Lower\"}\n",
    "df = df.rename(columns={k: v for k, v in kc_map.items() if k in df.columns})\n",
    "\n",
    "# ── 7. SAVE ───────────────────────────────────────────────────────────────\n",
    "df.to_csv(DST_CSV, index_label=\"datetime\")\n",
    "print(f\"✅  Saved cleaned file with {df.shape[0]:,} rows × {df.shape[1]} columns → {DST_CSV}\")\n"
   ]
  },
  {
   "cell_type": "code",
   "execution_count": 7,
   "metadata": {},
   "outputs": [
    {
     "name": "stdout",
     "output_type": "stream",
     "text": [
      "✅  Added VIX column → C:\\Users\\mason\\Downloads\\QQQ_15m_YTD_clean_ST_VIX.csv\n",
      "   Final shape: 1,898 rows × 33 columns\n"
     ]
    }
   ],
   "source": [
    "import pandas as pd\n",
    "from pathlib import Path\n",
    "import pytz\n",
    "\n",
    "# ── 1. FILE LOCATIONS ────────────────────────────────────────────────────\n",
    "QQQ_CSV = Path(r\"C:\\Users\\mason\\Downloads\\QQQ_15m_YTD_clean_ST.csv\")\n",
    "VIX_CSV = Path(r\"C:\\Users\\mason\\Downloads\\CBOE_DLY_VIX, 15.csv\")\n",
    "OUT_CSV = QQQ_CSV.with_name(\"QQQ_15m_YTD_clean_ST_VIX.csv\")\n",
    "\n",
    "NY = pytz.timezone(\"America/New_York\")\n",
    "ANCHOR_DT = \"2025-01-02 09:30\"\n",
    "\n",
    "# ── 2. LOAD QQQ (EXPLICIT DATETIME PARSE) ────────────────────────────────\n",
    "qqq = pd.read_csv(QQQ_CSV)\n",
    "\n",
    "# force datetime parse, assume strings like \"2025‑01‑02 09:30:00‑05:00\"\n",
    "qqq[\"datetime\"] = (\n",
    "    pd.to_datetime(qqq[\"datetime\"], utc=True)   # parse & normalize to UTC\n",
    "        .dt.tz_convert(NY)                     # convert to America/New_York\n",
    ")\n",
    "qqq = qqq.set_index(\"datetime\").sort_index()\n",
    "\n",
    "# ── 3. LOAD VIX & PREPARE ────────────────────────────────────────────────\n",
    "vix = pd.read_csv(VIX_CSV)\n",
    "vix[\"datetime\"] = (\n",
    "    pd.to_datetime(vix[\"time\"], unit=\"s\", utc=True)\n",
    "        .dt.tz_convert(NY)\n",
    ")\n",
    "vix = (\n",
    "    vix.loc[:, [\"datetime\", \"close\"]]\n",
    "       .rename(columns={\"close\": \"VIX\"})\n",
    "       .set_index(\"datetime\")\n",
    "       .sort_index()\n",
    "       .loc[ANCHOR_DT:]          # keep YTD only\n",
    ")\n",
    "\n",
    "# ── 4. JOIN & FILL ───────────────────────────────────────────────────────\n",
    "merged = (\n",
    "    qqq.join(vix, how=\"left\")\n",
    "        .ffill()                 # forward‑fill tiny gaps\n",
    ")\n",
    "\n",
    "# ── 5. SAVE ──────────────────────────────────────────────────────────────\n",
    "merged.to_csv(OUT_CSV, index_label=\"datetime\")\n",
    "print(f\"✅  Added VIX column → {OUT_CSV}\")\n",
    "print(f\"   Final shape: {merged.shape[0]:,} rows × {merged.shape[1]} columns\")\n"
   ]
  },
  {
   "cell_type": "code",
   "execution_count": 8,
   "metadata": {},
   "outputs": [
    {
     "name": "stdout",
     "output_type": "stream",
     "text": [
      "✅  Added 18 new column(s) → C:\\Users\\mason\\Downloads\\QQQ_15m_YTD_clean_ST_VIX.csv\n",
      "   New columns: Long Stop, Long Stop Start, Buy Label, Short Stop, Short Stop Start, Sell Label, Secondary QQE Trend Line, Secondary RSI Histogram, QQE Up Signal, QQE Down Signal, Percentile Rank Columns, Extreme Move Percentile Threshold Line, Warning Percentile Threshold Line, Percentile Rank Columns.1, Extreme Move Percentile Threshold Line.1, Warning Percentile Threshold Line.1, 0 Line Circles Plot, 0 Line-Line Plot\n"
     ]
    }
   ],
   "source": [
    "\"\"\"\n",
    "Append new community‑indicator columns to the cleaned QQQ 15‑minute dataset\n",
    "---------------------------------------------------------------------------\n",
    "\"\"\"\n",
    "\n",
    "import pandas as pd\n",
    "from pathlib import Path\n",
    "import pytz\n",
    "\n",
    "# ── 1. FILE LOCATIONS ────────────────────────────────────────────────────\n",
    "RAW_CSV   = Path(r\"C:\\Users\\mason\\Downloads\\BATS_QQQ, 15 (3).csv\")  # new export\n",
    "BASE_CSV  = Path(r\"C:\\Users\\mason\\Downloads\\QQQ_15m_YTD_clean_ST_VIX.csv\")\n",
    "OUT_CSV   = BASE_CSV  # overwrite; change .with_name(\"…_new.csv\") if you want a copy\n",
    "\n",
    "NY        = pytz.timezone(\"America/New_York\")\n",
    "ANCHOR_DT = \"2025-01-02 09:30\"   # first 15‑min RTH bar of 2025\n",
    "\n",
    "# ── 2. LOAD BASE DATASET ────────────────────────────────────────────────\n",
    "base = pd.read_csv(BASE_CSV)\n",
    "base[\"datetime\"] = (pd.to_datetime(base[\"datetime\"], utc=True)\n",
    "                      .dt.tz_convert(NY))\n",
    "base = base.set_index(\"datetime\")\n",
    "\n",
    "# ── 3. LOAD RAW EXPORT & CLEAN ──────────────────────────────────────────\n",
    "raw = pd.read_csv(RAW_CSV)\n",
    "\n",
    "raw[\"datetime\"] = (pd.to_datetime(raw[\"time\"], unit=\"s\", utc=True)\n",
    "                     .dt.tz_convert(NY))\n",
    "raw = (raw\n",
    "        .set_index(\"datetime\")\n",
    "        .sort_index()\n",
    "        .loc[ANCHOR_DT:])                     # keep YTD range only\n",
    "\n",
    "# drop 100 %‑NaN columns & label/plot text columns\n",
    "label_cols = raw.filter(regex=r\"^(Plot|Regular|Label|Dot)\").columns\n",
    "all_nan    = raw.columns[raw.isna().all()]\n",
    "raw = raw.drop(columns=label_cols.union(all_nan))\n",
    "\n",
    "# ── 4. KEEP ONLY *NEW* COLUMNS ───────────────────────────────────────────\n",
    "new_cols = [c for c in raw.columns if c not in base.columns]\n",
    "new_data = raw[new_cols]\n",
    "\n",
    "# ── 5. MERGE & SAVE ──────────────────────────────────────────────────────\n",
    "merged = base.join(new_data, how=\"left\")\n",
    "\n",
    "merged.to_csv(OUT_CSV, index_label=\"datetime\")\n",
    "print(f\"✅  Added {len(new_cols)} new column(s) → {OUT_CSV}\")\n",
    "print(\"   New columns:\", \", \".join(new_cols))\n"
   ]
  }
 ],
 "metadata": {
  "kernelspec": {
   "display_name": "Python 3",
   "language": "python",
   "name": "python3"
  },
  "language_info": {
   "codemirror_mode": {
    "name": "ipython",
    "version": 3
   },
   "file_extension": ".py",
   "mimetype": "text/x-python",
   "name": "python",
   "nbconvert_exporter": "python",
   "pygments_lexer": "ipython3",
   "version": "3.12.6"
  }
 },
 "nbformat": 4,
 "nbformat_minor": 2
}
